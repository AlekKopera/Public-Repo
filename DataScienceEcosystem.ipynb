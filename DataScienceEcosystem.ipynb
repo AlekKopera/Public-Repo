{
 "cells": [
  {
   "cell_type": "markdown",
   "id": "8f775c18-8f50-46aa-98fe-e1c3754aac99",
   "metadata": {},
   "source": [
    "# Data Science Tools and Ecosystem"
   ]
  },
  {
   "cell_type": "markdown",
   "id": "a6f0afbc-112c-4c73-9421-2dd98a728b38",
   "metadata": {},
   "source": [
    "In this notebook, Data Science Tools and Ecosystem are summarized."
   ]
  },
  {
   "cell_type": "markdown",
   "id": "399fed02-d7bf-4c91-bca0-8f6486b5e6d4",
   "metadata": {},
   "source": [
    "Objectives:\n",
    "- popular languages for Data Science\n",
    "- libraries for Data Science\n",
    "- Data Science tools\n",
    "- arithmetic expressions in Python"
   ]
  },
  {
   "cell_type": "markdown",
   "id": "6d1e5b65-82bc-42e2-98e6-d062a25c2b8c",
   "metadata": {},
   "source": [
    "Some of the popular languages that Data Scientists use are:\n",
    "1. Python\n",
    "2. R\n",
    "3. Julia\n",
    "4. Java\n",
    "5. C++"
   ]
  },
  {
   "cell_type": "markdown",
   "id": "88fb02be-0dc3-4930-b5a7-4c6ad6918e8d",
   "metadata": {},
   "source": [
    "Some of the commonly used libraries used by Data Scientists include:\n",
    "1. scikit-learn\n",
    "2. NumPy\n",
    "3. Pandas\n",
    "4. ggplot\n",
    "5. dplyr\n",
    "6. TensorFlow\n",
    "7. PyTorch"
   ]
  },
  {
   "cell_type": "markdown",
   "id": "6d46ae56-6589-4a85-aa8a-3910a860276e",
   "metadata": {},
   "source": [
    "|Data Science Tools.|\n",
    "|-----|\n",
    "|Jupyter Notebook|\n",
    "|RStudio|\n",
    "|Visual Studio Code|"
   ]
  },
  {
   "cell_type": "markdown",
   "id": "6e3821fd-3d6c-4791-82ea-711333f5d6e5",
   "metadata": {},
   "source": [
    "### Below are a few examples of evaluating arithmetic expressions in Python"
   ]
  },
  {
   "cell_type": "code",
   "execution_count": 1,
   "id": "26e2ecbb-9904-4307-8d4c-604b42a25042",
   "metadata": {},
   "outputs": [
    {
     "data": {
      "text/plain": [
       "17"
      ]
     },
     "execution_count": 1,
     "metadata": {},
     "output_type": "execute_result"
    }
   ],
   "source": [
    "# This a simple arithmetic expression to mutiply then add integers\n",
    "(3*4)+5"
   ]
  },
  {
   "cell_type": "code",
   "execution_count": 5,
   "id": "f2395d25-506f-45d6-bc8e-6b5e97e4d19c",
   "metadata": {},
   "outputs": [
    {
     "name": "stdout",
     "output_type": "stream",
     "text": [
      "200 minutes equals 3.33 hours\n"
     ]
    }
   ],
   "source": [
    "# This will convert 200 minutes to hours by diving by 60\n",
    "print(f\"200 minutes equals {round(200/60,2)} hours\")"
   ]
  },
  {
   "cell_type": "markdown",
   "id": "dfab333f-3420-4a40-961c-984a72a54622",
   "metadata": {},
   "source": [
    "## Author\n",
    "Aleksander"
   ]
  }
 ],
 "metadata": {
  "kernelspec": {
   "display_name": "Python 3 (ipykernel)",
   "language": "python",
   "name": "python3"
  },
  "language_info": {
   "codemirror_mode": {
    "name": "ipython",
    "version": 3
   },
   "file_extension": ".py",
   "mimetype": "text/x-python",
   "name": "python",
   "nbconvert_exporter": "python",
   "pygments_lexer": "ipython3",
   "version": "3.12.8"
  }
 },
 "nbformat": 4,
 "nbformat_minor": 5
}
